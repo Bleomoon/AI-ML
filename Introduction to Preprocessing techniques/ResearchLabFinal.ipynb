{
  "cells": [
    {
      "cell_type": "markdown",
      "metadata": {
        "id": "4bcSxDPKKbC8"
      },
      "source": [
        "We write all our import"
      ]
    },
    {
      "cell_type": "code",
      "execution_count": null,
      "metadata": {
        "id": "W2QSGk7hKZSi"
      },
      "outputs": [],
      "source": [
        "from PIL import Image, ImageOps\n",
        "import matplotlib.pyplot as plt\n",
        "import imageio\n",
        "import numpy as np\n",
        "import os\n",
        "import math\n",
        "import tensorflow as tf\n",
        "from scipy.signal import convolve2d\n",
        "import torch\n",
        "import torchvision.transforms as transforms\n",
        "import torch.nn.functional as F\n",
        "import normalizers\n",
        "import utils\n",
        "import random as python_random\n",
        "import os.path\n",
        "from os import path"
      ]
    },
    {
      "cell_type": "markdown",
      "metadata": {
        "id": "D3lP3D1XKlj5"
      },
      "source": [
        "* **Local contrast normalisation**"
      ]
    },
    {
      "cell_type": "code",
      "execution_count": null,
      "metadata": {
        "id": "u5aI6f5WKjxC"
      },
      "outputs": [],
      "source": [
        "def LocalNormalization(img, P=3, Q=3, C=1):\n",
        "    kernel = np.ones((P, Q)) / (P * Q)\n",
        "    img_mean = convolve2d(img, kernel, boundary='symm', mode='same')\n",
        "    img_sm = convolve2d(np.square(img), kernel, boundary='symm', mode='same')\n",
        "    img_std = np.sqrt(np.maximum(img_sm - np.square(img_mean), 0)) + C\n",
        "    img_ln = (img - img_mean) / img_std\n",
        "    return img_ln\n",
        "def computeLCN(images, chemin, bd, cheminSave):\n",
        "  dataset = []\n",
        "  for img in (images):\n",
        "    imgLCN = np.asarray(Image.open(chemin + img))\n",
        "    mos = [s[1] for s in header_mos if s[0].lower() == (img[0:(img.find('patch') -5)].lower()) or s[0].lower() == (img[0:(img.find('patch') -5)].lower() + '.bmp')]\n",
        "    imgLCN = cv2.cvtColor(imgLCN,cv2.COLOR_GRAY2RGB) #from gray to RGB\n",
        "    dataset.append((imgLCN.astype(float)/255.0, mos))\n",
        "  LCN_mos = np.asarray([s[1][0] for s in dataset]).astype(float)\n",
        "  LCN_datas = np.asarray([s[0] for s in dataset])\n",
        "  np.save(cheminSave + 'LCN_mos.npy', LCN_mos.reshape(-1, 1))\n",
        "  np.save(cheminSave + 'LCN_datas.npy', LCN_datas)"
      ]
    },
    {
      "cell_type": "markdown",
      "metadata": {
        "id": "IRAcYq3hKpij"
      },
      "source": [
        "* **Local response normalization**"
      ]
    },
    {
      "cell_type": "code",
      "execution_count": null,
      "metadata": {
        "id": "QJzcHyzsKv_e"
      },
      "outputs": [],
      "source": [
        "LRN = torch.nn.LocalResponseNorm(3)\n",
        "def LRNColored(img):\n",
        "  image = np.asarray(img)\n",
        "  image = image.transpose((2,0,1))\n",
        "  image_tensor = torch.Tensor(image)\n",
        "  image_lrn = LRN(image_tensor).numpy().transpose((1,2,0))\n",
        "  scaled_img = (image_lrn - image_lrn.min())/(image_lrn.max() - image_lrn.min())\n",
        "  return Image.fromarray(np.uint8(scaled_img * 255) , 'RGB')\n",
        "def computeLRN(images, chemin, bd, cheminSave):\n",
        "  dataset = []\n",
        "  for img in (images):\n",
        "    imgLRN = np.asarray(Image.open(chemin + img))\n",
        "    mos = [s[1] for s in header_mos if s[0].lower() == (img[0:(img.find('patch') -5)].lower()) or s[0].lower() == (img[0:(img.find('patch') -5)].lower() + '.bmp')]\n",
        "    dataset.append((imgLRN.astype(float)/255.0, mos))\n",
        "  LRN_mos = np.asarray([s[1][0] for s in dataset]).astype(float)\n",
        "  LRN_datas = np.asarray([s[0] for s in dataset])\n",
        "  np.save(cheminSave + 'LRN_mos.npy', LRN_mos.reshape(-1, 1))\n",
        "  np.save(cheminSave + 'LRN_datas.npy', LRN_datas)"
      ]
    },
    {
      "cell_type": "markdown",
      "metadata": {
        "id": "ACNL9UpGKxrC"
      },
      "source": [
        "* ZCA Whitening Normalization"
      ]
    },
    {
      "cell_type": "code",
      "execution_count": null,
      "metadata": {
        "id": "ozINEu79Kylz"
      },
      "outputs": [],
      "source": [
        "def ZCA_whitening(img):  # WORKS W/ WARNINGS : img_cn.astype(np.uint8)\n",
        "  normalizer = normalizers.Tools()\n",
        "  # ** 1st - Apply contrast normalization to the image\n",
        "  img_cn = normalizer.contrast_normalize(img)\n",
        "  # ** 2nd - Apply ZCA sphering normalization to the image\n",
        "  img_normalized = normalizer.ZCA_sphere(img_cn)\n",
        "  return img_normalized\n",
        "def computeZCA(images, chemin, bd, cheminSave):\n",
        "  dataset = []\n",
        "  for img in (images):\n",
        "    imgZCA = np.asarray(Image.open(chemin + img))\n",
        "    mos = [s[1] for s in header_mos if s[0].lower() == (img[0:(img.find('patch') -5)].lower()) or s[0].lower() == (img[0:(img.find('patch') -5)].lower() + '.bmp')]\n",
        "    imgZCA = cv2.cvtColor(imgZCA,cv2.COLOR_GRAY2RGB) #from gray to RGB\n",
        "    dataset.append((imgZCA.astype(float)/255.0, mos))\n",
        "  ZCA_mos = np.asarray([s[1][0] for s in dataset]).astype(float)\n",
        "  ZCA_datas = np.asarray([s[0] for s in dataset])\n",
        "  np.save(cheminSave + 'ZCA_mos.npy', ZCA_mos.reshape(-1, 1))\n",
        "  np.save(cheminSave + 'ZCA_datas.npy', ZCA_datas)"
      ]
    },
    {
      "cell_type": "markdown",
      "metadata": {
        "id": "dG5M8zZSKz94"
      },
      "source": [
        "* **Low Frequency Subtraction Normalization**"
      ]
    },
    {
      "cell_type": "code",
      "execution_count": null,
      "metadata": {
        "id": "AVpYtOffK26t"
      },
      "outputs": [],
      "source": [
        "from tensorflow.python.framework.ops import convert_to_tensor\n",
        "from numpy.core.fromnumeric import reshape\n",
        "\n",
        "# ======== NORMALIZATION ========\n",
        "\n",
        "# Compute normalization of an image\n",
        "def LFSN(image: tf.Tensor) -> tf.Tensor:\n",
        "    image = tf.cast(image, tf.float32)\n",
        "    \n",
        "    # ** 1st - Conversion in greyscale\n",
        "    image = tf.image.rgb_to_grayscale(image)\n",
        "\n",
        "    # ** 2nd - Applying low-pass filter and rescale\n",
        "    image_low = utils.gaussian_filter(image, 16, 7/6)\n",
        "\n",
        "    # Downsample image\n",
        "    image_low = utils.rescale(\n",
        "        image_low,\n",
        "        1/4,\n",
        "        method=tf.image.ResizeMethod.BICUBIC)\n",
        "    # Upsample image\n",
        "    image_low = tf.image.resize(\n",
        "            image_low,\n",
        "            size=utils.image_shape(image),\n",
        "            method=tf.image.ResizeMethod.BICUBIC)\n",
        "\n",
        "    # ** 3rd - Return images substerated from their low-pass filtered images\n",
        "    image_final = image - tf.cast(image_low, image.dtype)\n",
        "    #tf.cast(image_final, tf.uint8)\n",
        "    return image_final\n",
        "def computeLFS(images, chemin, bd, cheminSave):\n",
        "  dataset = []\n",
        "  for img in (images):\n",
        "    imgLFS = np.asarray(Image.open(chemin + img))\n",
        "    mos = [s[1] for s in header_mos if s[0].lower() == (img[0:(img.find('patch') -5)].lower()) or s[0].lower() == (img[0:(img.find('patch') -5)].lower() + '.bmp')]\n",
        "    imgLFS = cv2.cvtColor(imgLFS,cv2.COLOR_GRAY2RGB) #from gray to RGB\n",
        "    dataset.append((imgLFS.astype(float)/255.0, mos))\n",
        "  LFS_mos = np.asarray([s[1][0] for s in dataset]).astype(float)\n",
        "  LFS_datas = np.asarray([s[0] for s in dataset])\n",
        "  np.save(cheminSave + '_' + bd + '_LFS_mos.npy', LFS_mos.reshape(-1, 1))\n",
        "  np.save(cheminSave + '_' + bd + '_LFS_datas.npy', LFS_datas)"
      ]
    },
    {
      "cell_type": "markdown",
      "metadata": {
        "id": "V_3b1-rpLOzm"
      },
      "source": [
        "Mount drive and create folders"
      ]
    },
    {
      "cell_type": "code",
      "execution_count": null,
      "metadata": {
        "colab": {
          "base_uri": "https://localhost:8080/"
        },
        "id": "6bjyafOtLNoH",
        "outputId": "ab423725-89f7-405d-eafd-6357e1669264"
      },
      "outputs": [
        {
          "name": "stdout",
          "output_type": "stream",
          "text": [
            "Mounted at /content/drive/\n"
          ]
        }
      ],
      "source": [
        "# REMI\n",
        "from google.colab import drive\n",
        "drive.mount('/content/drive/')"
      ]
    },
    {
      "cell_type": "code",
      "execution_count": null,
      "metadata": {
        "id": "yEGNTYRTMq-L"
      },
      "outputs": [],
      "source": [
        "# REMI\n",
        "#!unzip '/content/drive/MyDrive/Master/Research lab/TID2013.zip' -d '/content/origin_TID2013'\n",
        "!unzip '/content/drive/MyDrive/Master/Research lab/CSIQ.zip' -d '/content/origin_CSIQ'"
      ]
    },
    {
      "cell_type": "code",
      "execution_count": null,
      "metadata": {
        "id": "S9j1jCSCLAk2"
      },
      "outputs": [],
      "source": [
        "#crée les deux dossiers des bds\n",
        "#Crée les 5 sous dossiers dans chaque bd\n",
        "def init_collab():\n",
        "  bd1 = 'CSIQ'\n",
        "  bd2 = 'TID2013'\n",
        "  if path.exists('/content/' + bd1) == False:\n",
        "    os.mkdir('/content/' + bd1)\n",
        "  if path.exists('/content/' + bd2) == False:\n",
        "    os.mkdir('/content/' + bd2)\n",
        "  if path.exists('/content/' + bd1 + '/patch') == False:\n",
        "    os.mkdir('/content/' + bd1 + '/patch')\n",
        "  if path.exists('/content/' + bd1 + '/LRN') == False:\n",
        "    os.mkdir('/content/' + bd1 + '/LRN')\n",
        "  if path.exists('/content/' + bd1 + '/LCN') == False:\n",
        "    os.mkdir('/content/' + bd1 + '/LCN')\n",
        "  if path.exists('/content/' + bd1 + '/ZCA') == False:\n",
        "    os.mkdir('/content/' + bd1 + '/ZCA')\n",
        "  if path.exists('/content/' + bd1 + '/LFS') == False:\n",
        "    os.mkdir('/content/' + bd1 + '/LFS')\n",
        "  if path.exists('/content/' + bd2 + '/patch') == False:\n",
        "    os.mkdir('/content/' + bd2 + '/patch')\n",
        "  if path.exists('/content/' + bd2 + '/LRN') == False:\n",
        "    os.mkdir('/content/' + bd2 + '/LRN')\n",
        "  if path.exists('/content/' + bd2 + '/LCN') == False:\n",
        "    os.mkdir('/content/' + bd2 + '/LCN')\n",
        "  if path.exists('/content/' + bd2 + '/ZCA') == False:\n",
        "    os.mkdir('/content/' + bd2 + '/ZCA')\n",
        "  if path.exists('/content/' + bd2 + '/LFS') == False:\n",
        "    os.mkdir('/content/' + bd2 + '/LFS')"
      ]
    },
    {
      "cell_type": "markdown",
      "metadata": {
        "id": "q2oRTxKCNFO3"
      },
      "source": [
        "Generate patchs"
      ]
    },
    {
      "cell_type": "code",
      "execution_count": null,
      "metadata": {
        "colab": {
          "base_uri": "https://localhost:8080/"
        },
        "id": "W3nO45YeVAWK",
        "outputId": "b4d978b2-69aa-4b82-9ef2-020c1d755308"
      },
      "outputs": [
        {
          "name": "stdout",
          "output_type": "stream",
          "text": [
            "  adding: content/TID2013/LFS/ (stored 0%)\n"
          ]
        }
      ],
      "source": [
        "import logging\n",
        "logging.getLogger().setLevel(logging.ERROR) #ignore lossy conversion\n",
        "def crop_img(chemin, img, bd, lfsC):\n",
        "  imgC = Image.open(chemin + img).convert(\"RGB\")\n",
        "  imgUC = Image.open(chemin + img).convert('L')\n",
        "  \n",
        "  longueur = imgC.size[0] / 64\n",
        "  largeur = imgC.size[1] / 64\n",
        "  #imgLCN = Image.fromarray(LocalNormalization(imgUC))\n",
        "  #imgLRN = LRNColored(imgC)\n",
        "  imgLFS = tf.keras.utils.save_img(lfsC + img + \".png\", LFSN(tf.convert_to_tensor(np.asarray(imgC))).numpy().squeeze(0))\n",
        "  imgLFS = Image.open(lfsC + img + \".png\")\n",
        "  #imgZCA = Image.fromarray(ZCA_whitening(imgUC))\n",
        "  for j in range(0,int(largeur)):\n",
        "    for i in range(0,int(longueur)):\n",
        "      #patchLRN = imgLRN.crop((i * 64, j * 64, (i+1) * 64, (j+1) * 64))\n",
        "      #patchLCN = imgLCN.crop((i * 64, j * 64, (i+1) * 64, (j+1) * 64))\n",
        "      #patchZCA = imgZCA.crop((i * 64, j * 64, (i+1) * 64, (j+1) * 64))\n",
        "      patchLFS = imgLFS.crop((i * 64, j * 64, (i+1) * 64, (j+1) * 64))\n",
        "      current = str(i+j*longueur)\n",
        "\n",
        "      #normalisation 1 avec ce patch\n",
        "      #patchLCN.convert('L').save(\"/content/\" + bd + \"/\" + \"LCN/\" + img + \"_patch_\" + current + \".png\", \"PNG\")\n",
        "      \n",
        "      #normalisation 2 avec ce patch \n",
        "      #patchLRN.save(\"/content/\" + bd + \"/\" + \"LRN/\" + img + \"_patch_\" + current + \".png\", \"PNG\")\n",
        "\n",
        "      #normalisation 3 avec ce patch \n",
        "      patchLFS.save(\"/content/\" + bd + \"/\" + \"LFS/\" + img + \"_patch_\" + current + \".png\", \"PNG\")\n",
        "\n",
        "      #normalisation 4 avec ce patch\n",
        "      #imageio.imwrite(\"/content/\" + bd + \"/\" + \"ZCA/\" + img + \"_patch_\" + current + \".png\", np.asarray(patchZCA))\n",
        "def launchPatch(chemin, bd, nb):\n",
        "  init_collab()\n",
        "  lfsC = '/content/GB/'\n",
        "  if path.exists('/content/GB') == False:\n",
        "    os.mkdir('/content/GB')\n",
        "  images  = [f for f in os.listdir(chemin) if os.path.splitext(f)[-1] == '.png' or os.path.splitext(f)[-1] == '.PNG'  or os.path.splitext(f)[-1] == '.bmp'  or os.path.splitext(f)[-1] == '.BMP']\n",
        "  if nb > 0:\n",
        "    for i in range(nb):\n",
        "      crop_img(chemin, images[i], bd, lfsC)\n",
        "  else:\n",
        "    for img in (images):\n",
        "      crop_img(chemin, img, bd, lfsC)\n",
        "#launchPatch('/content/origin_TID2013/TID2013/', 'TID2013', 466)\n",
        "launchPatch('/content/origin_CSIQ/CSIQ/dst_imgs/', 'CSIQ', 466)\n",
        "#if path.exists('/content/CSIQ/') == True:\n",
        "  #!zip -r \"/content/drive/MyDrive/Master/Research lab/CSIQ_LCNNorm.zip\" \"/content/CSIQ/LCN\"\n",
        "  #!zip -r \"/content/drive/MyDrive/Master/Research lab/CSIQ_LRNNorm.zip\" \"/content/CSIQ/LRN\"\n",
        "  #!zip -r \"/content/drive/MyDrive/Master/Research lab/CSIQ_ZCANorm.zip\" \"/content/CSIQ/ZCA\"\n",
        "  #!zip -r \"/content/drive/MyDrive/Master/Research lab/CSIQ_LFSNorm.zip\" \"/content/CSIQ/LFS\"\n",
        "if path.exists('/content/TID2013/') == True:\n",
        "  #!zip -r \"/content/drive/MyDrive/Master/Research lab/TID2013_LCNNorm.zip\" \"/content/TID2013/LCN\"\n",
        "  #!zip -r \"/content/drive/MyDrive/Master/Research lab/TID2013_LRNNorm.zip\" \"/content/TID2013/LRN\"\n",
        "  #!zip -r \"/content/drive/MyDrive/Master/Research lab/TID2013_ZCANorm.zip\" \"/content/TID2013/ZCA\"\n",
        "  !zip -r \"/content/drive/MyDrive/Master/Research lab/TID2013_LFSNorm.zip\" \"/content/TID2013/LFS\""
      ]
    },
    {
      "cell_type": "markdown",
      "metadata": {
        "id": "6t2CFJ4kEM33"
      },
      "source": [
        "Create the mos based on csv data"
      ]
    },
    {
      "cell_type": "code",
      "execution_count": null,
      "metadata": {
        "id": "x-7OIkgaEULo"
      },
      "outputs": [],
      "source": [
        "#get csv, extract name of images\n",
        "if path.exists('/content/drive/MyDrive/Master/Research lab') == True:\n",
        "  !cp '/content/drive/MyDrive/Master/Research lab/CSIQ_DMOS.csv' '/content/'\n",
        "  #!cp '/content/drive/MyDrive/Master/Research lab/MOS_TID2013.csv' '/content/'\n",
        "\n",
        "import csv\n",
        "file = open('/content/CSIQ_DMOS.csv')\n",
        "csvreader = csv.reader(file)\n",
        "header_mos = []\n",
        "for row in csvreader:\n",
        "  header_mos.append((row[0] + '.' + row[2] + '.' + row[3], row[5]));\n",
        "\n",
        "#file = open('/content/MOS_TID2013.csv')\n",
        "#csvreader = csv.reader(file)\n",
        "#for row in csvreader:\n",
        "  #header_mos.append((row[1], row[0]));"
      ]
    },
    {
      "cell_type": "markdown",
      "metadata": {
        "id": "V9DFlEpjlhlT"
      },
      "source": [
        "Create Dataset and mos associated"
      ]
    },
    {
      "cell_type": "code",
      "execution_count": null,
      "metadata": {
        "id": "1M_oSVSTcVPq"
      },
      "outputs": [],
      "source": [
        "import cv2\n",
        "def launchMosDataSet(cheminSave, bd):\n",
        "  if path.exists('/content/' + bd) == False:\n",
        "    os.mkdir('/content/' + bd)\n",
        "    os.mkdir('/content/' + bd + '/LRN')\n",
        "    os.mkdir('/content/' + bd + '/LCN')\n",
        "    os.mkdir('/content/' + bd + '/ZCA')\n",
        "    os.mkdir('/content/' + bd + '/LFS')\n",
        "    !unzip '/content/drive/MyDrive/Master/Research lab/' + bd + '_LFSNorm.zip' -d '/content/' + bd + '/LFS/'\n",
        "    !unzip '/content/drive/MyDrive/Master/Research lab/' + bd + '_LRNNorm.zip' -d '/content/' + bd + '/LRN/'\n",
        "    !unzip '/content/drive/MyDrive/Master/Research lab/' + bd + '_LCNNorm.zip' -d '/content/' + bd + '/LCN/'\n",
        "    !unzip '/content/drive/MyDrive/Master/Research lab/' + bd + '_ZCANorm.zip' -d '/content/' + bd + '/ZCA/'\n",
        "  images  = [f for f in os.listdir('/content/' + bd + '/LFS/') if os.path.splitext(f)[-1] == '.png' or os.path.splitext(f)[-1] == '.PNG' or os.path.splitext(f)[-1] == '.bmp' or os.path.splitext(f)[-1] == '.BMP']\n",
        "  computeLFS(images, '/content/' + bd + '/LFS/', bd, cheminSave)\n",
        "  #images  = [f for f in os.listdir('/content/' + bd + '/ZCA/') if os.path.splitext(f)[-1] == '.png' or os.path.splitext(f)[-1] == '.PNG' or os.path.splitext(f)[-1] == '.bmp' or os.path.splitext(f)[-1] == '.BMP']\n",
        "  #computeZCA(images, '/content/' + bd + '/ZCA/', bd, cheminSave)\n",
        "  #images  = [f for f in os.listdir('/content/' + bd + '/LRN/') if os.path.splitext(f)[-1] == '.png' or os.path.splitext(f)[-1] == '.PNG' or os.path.splitext(f)[-1] == '.bmp' or os.path.splitext(f)[-1] == '.BMP']\n",
        "  #computeLRN(images, '/content/' + bd + '/LRN/', bd, cheminSave)\n",
        "  #images  = [f for f in os.listdir('/content/' + bd + '/LCN/') if os.path.splitext(f)[-1] == '.png' or os.path.splitext(f)[-1] == '.PNG' or os.path.splitext(f)[-1] == '.bmp' or os.path.splitext(f)[-1] == '.BMP']\n",
        "  #computeLCN(images, '/content/' + bd + '/LCN/', bd, cheminSave)\n",
        "launchMosDataSet('/content/drive/MyDrive/Master/Research lab/Numpy Array/', 'CSIQ')"
      ]
    },
    {
      "cell_type": "markdown",
      "metadata": {
        "id": "hNhD1vCKOYxW"
      },
      "source": [
        "We are using [TensorFlow](https://www.tensorflow.org/) to develop the CNN model. Here a [guide](https://www.pyimagesearch.com/2021/05/22/a-gentle-guide-to-training-your-first-cnn-with-keras-and-tensorflow/) to training your first CNN with Keras and TensorFlow"
      ]
    },
    {
      "cell_type": "code",
      "execution_count": null,
      "metadata": {
        "colab": {
          "base_uri": "https://localhost:8080/"
        },
        "id": "HDJTVTlXKD3h",
        "outputId": "7352dd59-b949-4196-e73e-71bb572e7143"
      },
      "outputs": [
        {
          "output_type": "stream",
          "name": "stdout",
          "text": [
            "Number GPUs avalable:  1\n",
            "2.8.0\n"
          ]
        }
      ],
      "source": [
        "physical_devices = tf.config.experimental.list_physical_devices('GPU')\n",
        "print(\"Number GPUs avalable: \", len(physical_devices))\n",
        "tf.config.experimental.set_memory_growth(physical_devices[0], True)\n",
        "\n",
        "# tf.config.run_functions_eagerly(True)\n",
        "os.environ['PYTHONHASHSEED'] = '0'\n",
        "os.environ['TF_DETERMINISTIC_OPS'] = '1'\n",
        "\n",
        "print(tf.__version__)\n",
        "\n",
        "SEED = 123\n",
        "# The below is necessary for starting Numpy generated random numbers\n",
        "# in a well-defined initial state.\n",
        "np.random.seed(SEED)\n",
        "\n",
        "# The below is necessary for starting core Python generated random numbers\n",
        "# in a well-defined state.\n",
        "python_random.seed(SEED)\n",
        "\n",
        "# The below set_seed() will make random number generation\n",
        "# in the TensorFlow backend have a well-defined initial state.\n",
        "# For further details, see:\n",
        "# https://www.tensorflow.org/api_docs/python/tf/random/set_seed\n",
        "\n",
        "tf.random.set_seed(SEED)"
      ]
    },
    {
      "cell_type": "markdown",
      "metadata": {
        "id": "6zXh7LcRbjQh"
      },
      "source": [
        "Model creation:\n",
        "\n",
        "\n",
        "1.   Load the model using the keras API.\n",
        "    - The ResNet-18 model is going to be used.\n",
        "\n",
        "3. Add the regression layers on top of the ResNet-18.\n",
        "\n",
        "[Here is a video](https://www.youtube.com/watch?v=581X9wsnWJs) explaining what is a CNN."
      ]
    },
    {
      "cell_type": "code",
      "execution_count": null,
      "metadata": {
        "id": "XukSnl4JW0i7"
      },
      "outputs": [],
      "source": [
        "from tensorflow.keras.applications.resnet50 import ResNet50\n",
        "\n",
        "input_shape = (64, 64, 3) # ou bien (64, 64, 1) \n",
        "model_ = ResNet50(input_shape=input_shape, weights='imagenet', include_top=False)\n",
        "\n",
        "x = tf.keras.layers.GlobalAveragePooling2D()(model_.output)\n",
        "x = tf.keras.layers.Dense(512, activation=\"relu\")(x)\n",
        "x = tf.keras.layers.Dropout(0.5)(x)\n",
        "\n",
        "x = tf.keras.layers.Dense(\n",
        "    1, activation='linear')(x)\n",
        "\n",
        "model = tf.keras.Model(model_.input, x)\n",
        "\n",
        "opt = tf.keras.optimizers.SGD(learning_rate=0.1,momentum=0.9,decay = 1e-04) #parameters suggested by He [1]\n",
        "model.compile(optimizer = \"adam\", loss=\"mse\", metrics=tf.keras.metrics.RootMeanSquaredError(name='rmse')) \n",
        "model.summary()"
      ]
    },
    {
      "cell_type": "markdown",
      "metadata": {
        "id": "7HLScwxA1xKw"
      },
      "source": [
        "You can use the `plot_images()` func to display the image samples."
      ]
    },
    {
      "cell_type": "code",
      "execution_count": null,
      "metadata": {
        "id": "po_qQzQ-09TU"
      },
      "outputs": [],
      "source": [
        "def plot_images(images_arr):\n",
        "    fig, axes = plt.subplots(1, len(images_arr), figsize=(10, 10))\n",
        "    axes = axes.flatten()\n",
        "    for img, ax in zip(images_arr, axes):\n",
        "        ax.imshow(img)\n",
        "        ax.axis('off')\n",
        "    plt.tight_layout()\n",
        "    plt.show()"
      ]
    },
    {
      "cell_type": "markdown",
      "metadata": {
        "id": "OtSz9RSdnDey"
      },
      "source": [
        "# Code for data prep\n",
        "\n",
        "---"
      ]
    },
    {
      "cell_type": "code",
      "execution_count": null,
      "metadata": {
        "id": "y3xnETyXnL2R"
      },
      "outputs": [],
      "source": [
        "from sklearn.model_selection import train_test_split\n",
        "\n",
        "def test_train_spltting(image_set, mos):\n",
        "    img_train, img_test, mos_train, mos_test = train_test_split(image_set, mos)\n",
        "    return img_train, img_test, mos_train, mos_test\n"
      ]
    },
    {
      "cell_type": "markdown",
      "metadata": {
        "id": "bo1egUU1yHJM"
      },
      "source": [
        "# Training step\n",
        "\n",
        "---\n",
        "\n",
        "\n",
        "\n",
        "1.   Read the images.\n",
        "2.   Normalize these images.\n",
        "3.   Create the training and testing sets.\n",
        "4.   Train the `model`using the train sets (Images and MOSs) by means of the `fit()` function. Take a look [here](https://keras.io/api/models/model_training_apis/).\n",
        "\n"
      ]
    },
    {
      "cell_type": "markdown",
      "metadata": {
        "id": "rZCI7OhfjZf5"
      },
      "source": [
        "Mount drive, create folders in current Collab"
      ]
    },
    {
      "cell_type": "code",
      "execution_count": null,
      "metadata": {
        "colab": {
          "base_uri": "https://localhost:8080/"
        },
        "id": "cPsEIxkRjY3T",
        "outputId": "e149c415-892d-491b-bd5d-f5b273857ad0"
      },
      "outputs": [
        {
          "output_type": "stream",
          "name": "stdout",
          "text": [
            "Mounted at /content/drive/\n"
          ]
        }
      ],
      "source": [
        "import os.path\n",
        "from os import path\n",
        "import gc\n",
        "\n",
        "# mount drive\n",
        "from google.colab import drive\n",
        "drive.mount('/content/drive/')\n",
        "\n",
        "#create folder\n",
        "if path.exists('/content/DATA') == False:\n",
        "    os.mkdir('/content/DATA')\n",
        "if path.exists('/content/DATA/LCN') == False:\n",
        "    os.mkdir('/content/DATA/LCN')\n",
        "if path.exists('/content/DATA/ZCA') == False:\n",
        "  os.mkdir('/content/DATA/ZCA')\n",
        "if path.exists('/content/Results') == False:\n",
        "  os.mkdir('/content/Results')"
      ]
    },
    {
      "cell_type": "code",
      "execution_count": null,
      "metadata": {
        "colab": {
          "base_uri": "https://localhost:8080/"
        },
        "id": "Pkb3beAEyqm9",
        "outputId": "2f25392f-c31f-44d5-e77f-83121cbb9272"
      },
      "outputs": [
        {
          "output_type": "stream",
          "name": "stdout",
          "text": [
            "(22368, 64, 64, 3)\n",
            "(22368, 1)\n"
          ]
        }
      ],
      "source": [
        "mosFinal = np.load('/content/drive/MyDrive/Master/Research lab/Numpy Array/LRN_mos.npy')\n",
        "dataSetFinal = np.load('/content/drive/MyDrive/Master/Research lab/Numpy Array/LRN_datas.npy')\n",
        "print(dataSetFinal.shape)\n",
        "print(mosFinal.shape)\n",
        "train_images, test_images, train_mos, test_mos = test_train_spltting(dataSetFinal, mosFinal)"
      ]
    },
    {
      "cell_type": "code",
      "execution_count": null,
      "metadata": {
        "colab": {
          "base_uri": "https://localhost:8080/"
        },
        "id": "yMqT0Tk25YFZ",
        "outputId": "1c0530aa-4478-4bbf-97ec-98a363f61465"
      },
      "outputs": [
        {
          "output_type": "execute_result",
          "data": {
            "text/plain": [
              "379"
            ]
          },
          "metadata": {},
          "execution_count": 9
        }
      ],
      "source": [
        "gc.collect()"
      ]
    },
    {
      "cell_type": "code",
      "execution_count": null,
      "metadata": {
        "colab": {
          "base_uri": "https://localhost:8080/"
        },
        "id": "zGF2-shDz1Yk",
        "outputId": "74ba19d5-5b27-498d-f44d-cfa10a09d2e0"
      },
      "outputs": [
        {
          "output_type": "stream",
          "name": "stdout",
          "text": [
            "Epoch 1/100\n",
            "420/420 [==============================] - 81s 153ms/step - loss: 2.4652 - rmse: 1.5701 - val_loss: 1.7491 - val_rmse: 1.3225\n",
            "Epoch 2/100\n",
            "420/420 [==============================] - 62s 148ms/step - loss: 1.4120 - rmse: 1.1883 - val_loss: 2.3386 - val_rmse: 1.5293\n",
            "Epoch 3/100\n",
            "420/420 [==============================] - 62s 148ms/step - loss: 1.2234 - rmse: 1.1061 - val_loss: 1.7019 - val_rmse: 1.3046\n",
            "Epoch 4/100\n",
            "420/420 [==============================] - 62s 149ms/step - loss: 1.1298 - rmse: 1.0629 - val_loss: 1.0070 - val_rmse: 1.0035\n",
            "Epoch 5/100\n",
            "420/420 [==============================] - 62s 147ms/step - loss: 1.0819 - rmse: 1.0401 - val_loss: 0.8444 - val_rmse: 0.9189\n",
            "Epoch 6/100\n",
            "420/420 [==============================] - 62s 147ms/step - loss: 1.0174 - rmse: 1.0087 - val_loss: 1.2141 - val_rmse: 1.1019\n",
            "Epoch 7/100\n",
            "420/420 [==============================] - 62s 146ms/step - loss: 0.9599 - rmse: 0.9798 - val_loss: 1.1074 - val_rmse: 1.0523\n",
            "Epoch 8/100\n",
            "420/420 [==============================] - 62s 147ms/step - loss: 0.9544 - rmse: 0.9769 - val_loss: 2.2227 - val_rmse: 1.4909\n",
            "Epoch 9/100\n",
            "420/420 [==============================] - 61s 146ms/step - loss: 0.9497 - rmse: 0.9745 - val_loss: 0.9341 - val_rmse: 0.9665\n",
            "Epoch 10/100\n",
            "420/420 [==============================] - 61s 146ms/step - loss: 0.8969 - rmse: 0.9471 - val_loss: 0.8644 - val_rmse: 0.9297\n",
            "Epoch 11/100\n",
            "420/420 [==============================] - 61s 146ms/step - loss: 0.9139 - rmse: 0.9560 - val_loss: 1.0866 - val_rmse: 1.0424\n",
            "Epoch 12/100\n",
            "420/420 [==============================] - 61s 146ms/step - loss: 0.8899 - rmse: 0.9433 - val_loss: 0.9601 - val_rmse: 0.9799\n",
            "Epoch 13/100\n",
            "420/420 [==============================] - 63s 151ms/step - loss: 0.8300 - rmse: 0.9110 - val_loss: 1.3001 - val_rmse: 1.1402\n",
            "Epoch 14/100\n",
            "420/420 [==============================] - 61s 146ms/step - loss: 0.8263 - rmse: 0.9090 - val_loss: 1.0464 - val_rmse: 1.0229\n",
            "Epoch 15/100\n",
            "420/420 [==============================] - 61s 146ms/step - loss: 0.8250 - rmse: 0.9083 - val_loss: 1.0802 - val_rmse: 1.0393\n",
            "Epoch 16/100\n",
            "420/420 [==============================] - 61s 146ms/step - loss: 0.7837 - rmse: 0.8852 - val_loss: 3.3684 - val_rmse: 1.8353\n",
            "Epoch 17/100\n",
            "420/420 [==============================] - 61s 146ms/step - loss: 0.7616 - rmse: 0.8727 - val_loss: 1.0805 - val_rmse: 1.0395\n",
            "Epoch 18/100\n",
            "420/420 [==============================] - 61s 145ms/step - loss: 0.7215 - rmse: 0.8494 - val_loss: 2.0882 - val_rmse: 1.4451\n",
            "Epoch 19/100\n",
            "420/420 [==============================] - 63s 149ms/step - loss: 0.7163 - rmse: 0.8464 - val_loss: 1.1692 - val_rmse: 1.0813\n",
            "Epoch 20/100\n",
            "420/420 [==============================] - 61s 145ms/step - loss: 0.6919 - rmse: 0.8318 - val_loss: 0.8661 - val_rmse: 0.9306\n",
            "Epoch 21/100\n",
            "420/420 [==============================] - 61s 145ms/step - loss: 0.6655 - rmse: 0.8158 - val_loss: 1.2247 - val_rmse: 1.1067\n",
            "Epoch 22/100\n",
            "420/420 [==============================] - 61s 146ms/step - loss: 0.6501 - rmse: 0.8063 - val_loss: 2.6979 - val_rmse: 1.6425\n",
            "Epoch 23/100\n",
            "420/420 [==============================] - 61s 145ms/step - loss: 0.6611 - rmse: 0.8131 - val_loss: 0.8872 - val_rmse: 0.9419\n",
            "Epoch 24/100\n",
            "420/420 [==============================] - 61s 145ms/step - loss: 0.5961 - rmse: 0.7721 - val_loss: 2.6057 - val_rmse: 1.6142\n",
            "Epoch 25/100\n",
            "420/420 [==============================] - 61s 145ms/step - loss: 0.5808 - rmse: 0.7621 - val_loss: 1.4727 - val_rmse: 1.2136\n",
            "Epoch 26/100\n",
            "420/420 [==============================] - 61s 145ms/step - loss: 0.5750 - rmse: 0.7583 - val_loss: 1.1287 - val_rmse: 1.0624\n",
            "Epoch 27/100\n",
            "420/420 [==============================] - 63s 150ms/step - loss: 0.5404 - rmse: 0.7351 - val_loss: 0.8569 - val_rmse: 0.9257\n",
            "Epoch 28/100\n",
            "420/420 [==============================] - 61s 146ms/step - loss: 0.4918 - rmse: 0.7013 - val_loss: 1.1543 - val_rmse: 1.0744\n",
            "Epoch 29/100\n",
            "420/420 [==============================] - 62s 147ms/step - loss: 0.4883 - rmse: 0.6988 - val_loss: 0.8876 - val_rmse: 0.9421\n",
            "Epoch 30/100\n",
            "420/420 [==============================] - 62s 147ms/step - loss: 0.4804 - rmse: 0.6931 - val_loss: 1.5357 - val_rmse: 1.2392\n",
            "Epoch 31/100\n",
            "420/420 [==============================] - 62s 147ms/step - loss: 0.4647 - rmse: 0.6817 - val_loss: 0.9940 - val_rmse: 0.9970\n",
            "Epoch 32/100\n",
            "420/420 [==============================] - 62s 147ms/step - loss: 0.4419 - rmse: 0.6647 - val_loss: 0.9922 - val_rmse: 0.9961\n",
            "Epoch 33/100\n",
            "420/420 [==============================] - 61s 146ms/step - loss: 0.4363 - rmse: 0.6605 - val_loss: 1.0564 - val_rmse: 1.0278\n",
            "Epoch 34/100\n",
            "420/420 [==============================] - 61s 146ms/step - loss: 0.4137 - rmse: 0.6432 - val_loss: 1.0073 - val_rmse: 1.0036\n",
            "Epoch 35/100\n",
            "420/420 [==============================] - 61s 146ms/step - loss: 0.4226 - rmse: 0.6501 - val_loss: 1.0188 - val_rmse: 1.0094\n",
            "Epoch 36/100\n",
            "420/420 [==============================] - 62s 147ms/step - loss: 0.3852 - rmse: 0.6206 - val_loss: 0.9143 - val_rmse: 0.9562\n",
            "Epoch 37/100\n",
            "420/420 [==============================] - 61s 146ms/step - loss: 0.3685 - rmse: 0.6071 - val_loss: 1.7682 - val_rmse: 1.3297\n",
            "Epoch 38/100\n",
            "420/420 [==============================] - 61s 146ms/step - loss: 0.3928 - rmse: 0.6268 - val_loss: 0.9821 - val_rmse: 0.9910\n",
            "Epoch 39/100\n",
            "420/420 [==============================] - 61s 146ms/step - loss: 0.3553 - rmse: 0.5961 - val_loss: 1.1172 - val_rmse: 1.0570\n",
            "Epoch 40/100\n",
            "420/420 [==============================] - 61s 146ms/step - loss: 0.3417 - rmse: 0.5845 - val_loss: 1.1708 - val_rmse: 1.0820\n",
            "Epoch 41/100\n",
            "420/420 [==============================] - 61s 145ms/step - loss: 0.3408 - rmse: 0.5838 - val_loss: 1.6628 - val_rmse: 1.2895\n",
            "Epoch 42/100\n",
            "420/420 [==============================] - 61s 145ms/step - loss: 0.3204 - rmse: 0.5660 - val_loss: 1.1472 - val_rmse: 1.0711\n",
            "Epoch 43/100\n",
            "420/420 [==============================] - 63s 150ms/step - loss: 0.3226 - rmse: 0.5680 - val_loss: 1.5752 - val_rmse: 1.2551\n",
            "Epoch 44/100\n",
            "420/420 [==============================] - 61s 145ms/step - loss: 0.3213 - rmse: 0.5668 - val_loss: 1.0000 - val_rmse: 1.0000\n",
            "Epoch 45/100\n",
            "420/420 [==============================] - 63s 149ms/step - loss: 0.2905 - rmse: 0.5389 - val_loss: 0.9486 - val_rmse: 0.9740\n",
            "Epoch 46/100\n",
            "420/420 [==============================] - 61s 145ms/step - loss: 0.3036 - rmse: 0.5510 - val_loss: 1.3330 - val_rmse: 1.1546\n",
            "Epoch 47/100\n",
            "420/420 [==============================] - 62s 147ms/step - loss: 0.2781 - rmse: 0.5273 - val_loss: 1.0929 - val_rmse: 1.0454\n",
            "Epoch 48/100\n",
            "420/420 [==============================] - 61s 146ms/step - loss: 0.2556 - rmse: 0.5056 - val_loss: 1.3249 - val_rmse: 1.1510\n",
            "Epoch 49/100\n",
            "420/420 [==============================] - 61s 146ms/step - loss: 0.2652 - rmse: 0.5150 - val_loss: 0.9436 - val_rmse: 0.9714\n",
            "Epoch 50/100\n",
            "420/420 [==============================] - 62s 149ms/step - loss: 0.2755 - rmse: 0.5248 - val_loss: 1.2918 - val_rmse: 1.1366\n",
            "Epoch 51/100\n",
            "420/420 [==============================] - 62s 147ms/step - loss: 0.2490 - rmse: 0.4990 - val_loss: 1.5420 - val_rmse: 1.2418\n",
            "Epoch 52/100\n",
            "420/420 [==============================] - 61s 146ms/step - loss: 0.2359 - rmse: 0.4857 - val_loss: 0.9311 - val_rmse: 0.9649\n",
            "Epoch 53/100\n",
            "420/420 [==============================] - 62s 146ms/step - loss: 0.2379 - rmse: 0.4877 - val_loss: 1.1256 - val_rmse: 1.0609\n",
            "Epoch 54/100\n",
            "420/420 [==============================] - 61s 146ms/step - loss: 0.2231 - rmse: 0.4724 - val_loss: 0.8752 - val_rmse: 0.9355\n",
            "Epoch 55/100\n",
            "420/420 [==============================] - 62s 147ms/step - loss: 0.2082 - rmse: 0.4563 - val_loss: 0.9427 - val_rmse: 0.9709\n",
            "Epoch 56/100\n",
            "420/420 [==============================] - 62s 147ms/step - loss: 0.2236 - rmse: 0.4729 - val_loss: 0.9009 - val_rmse: 0.9491\n",
            "Epoch 57/100\n",
            "420/420 [==============================] - 63s 150ms/step - loss: 0.2092 - rmse: 0.4574 - val_loss: 0.9619 - val_rmse: 0.9808\n",
            "Epoch 58/100\n",
            "420/420 [==============================] - 62s 147ms/step - loss: 0.2163 - rmse: 0.4651 - val_loss: 1.0542 - val_rmse: 1.0268\n",
            "Epoch 59/100\n",
            "420/420 [==============================] - 62s 147ms/step - loss: 0.2065 - rmse: 0.4545 - val_loss: 1.2381 - val_rmse: 1.1127\n",
            "Epoch 60/100\n",
            "420/420 [==============================] - 62s 147ms/step - loss: 0.2240 - rmse: 0.4733 - val_loss: 1.0397 - val_rmse: 1.0197\n",
            "Epoch 61/100\n",
            "420/420 [==============================] - 62s 148ms/step - loss: 0.2088 - rmse: 0.4570 - val_loss: 0.9452 - val_rmse: 0.9722\n",
            "Epoch 62/100\n",
            "420/420 [==============================] - 63s 151ms/step - loss: 0.1899 - rmse: 0.4358 - val_loss: 0.9682 - val_rmse: 0.9840\n",
            "Epoch 63/100\n",
            "420/420 [==============================] - 62s 148ms/step - loss: 0.1956 - rmse: 0.4422 - val_loss: 1.2086 - val_rmse: 1.0994\n",
            "Epoch 64/100\n",
            "420/420 [==============================] - 62s 148ms/step - loss: 0.1798 - rmse: 0.4240 - val_loss: 0.9845 - val_rmse: 0.9922\n",
            "Epoch 65/100\n",
            "420/420 [==============================] - 62s 147ms/step - loss: 0.1738 - rmse: 0.4169 - val_loss: 1.3457 - val_rmse: 1.1600\n",
            "Epoch 66/100\n",
            "420/420 [==============================] - 62s 148ms/step - loss: 0.1820 - rmse: 0.4266 - val_loss: 1.0434 - val_rmse: 1.0215\n",
            "Epoch 67/100\n",
            "420/420 [==============================] - 62s 148ms/step - loss: 0.1920 - rmse: 0.4381 - val_loss: 1.0024 - val_rmse: 1.0012\n",
            "Epoch 68/100\n",
            "420/420 [==============================] - 62s 148ms/step - loss: 0.2082 - rmse: 0.4563 - val_loss: 1.0242 - val_rmse: 1.0120\n",
            "Epoch 69/100\n",
            "420/420 [==============================] - 62s 149ms/step - loss: 0.1714 - rmse: 0.4141 - val_loss: 0.8948 - val_rmse: 0.9460\n",
            "Epoch 70/100\n",
            "420/420 [==============================] - 62s 149ms/step - loss: 0.1561 - rmse: 0.3951 - val_loss: 0.9993 - val_rmse: 0.9997\n",
            "Epoch 71/100\n",
            "420/420 [==============================] - 62s 148ms/step - loss: 0.1544 - rmse: 0.3929 - val_loss: 0.8907 - val_rmse: 0.9438\n",
            "Epoch 72/100\n",
            "420/420 [==============================] - 62s 148ms/step - loss: 0.1848 - rmse: 0.4299 - val_loss: 0.9171 - val_rmse: 0.9576\n",
            "Epoch 73/100\n",
            "420/420 [==============================] - 62s 148ms/step - loss: 0.1910 - rmse: 0.4370 - val_loss: 0.9254 - val_rmse: 0.9620\n",
            "Epoch 74/100\n",
            "420/420 [==============================] - 62s 149ms/step - loss: 0.1728 - rmse: 0.4157 - val_loss: 0.9410 - val_rmse: 0.9700\n",
            "Epoch 75/100\n",
            "420/420 [==============================] - 62s 149ms/step - loss: 0.1515 - rmse: 0.3893 - val_loss: 1.0267 - val_rmse: 1.0132\n",
            "Epoch 76/100\n",
            "420/420 [==============================] - 63s 149ms/step - loss: 0.1446 - rmse: 0.3803 - val_loss: 1.0804 - val_rmse: 1.0394\n",
            "Epoch 77/100\n",
            "420/420 [==============================] - 62s 148ms/step - loss: 0.1478 - rmse: 0.3844 - val_loss: 0.8608 - val_rmse: 0.9278\n",
            "Epoch 78/100\n",
            "420/420 [==============================] - 64s 152ms/step - loss: 0.1571 - rmse: 0.3964 - val_loss: 1.7489 - val_rmse: 1.3225\n",
            "Epoch 79/100\n",
            "420/420 [==============================] - 63s 151ms/step - loss: 0.1681 - rmse: 0.4100 - val_loss: 1.0072 - val_rmse: 1.0036\n",
            "Epoch 80/100\n",
            "420/420 [==============================] - 62s 147ms/step - loss: 0.2050 - rmse: 0.4528 - val_loss: 1.3570 - val_rmse: 1.1649\n",
            "Epoch 81/100\n",
            "420/420 [==============================] - 62s 148ms/step - loss: 0.1741 - rmse: 0.4172 - val_loss: 1.4246 - val_rmse: 1.1936\n",
            "Epoch 82/100\n",
            "420/420 [==============================] - 62s 147ms/step - loss: 0.1584 - rmse: 0.3980 - val_loss: 1.1184 - val_rmse: 1.0575\n",
            "Epoch 83/100\n",
            "420/420 [==============================] - 63s 151ms/step - loss: 0.1375 - rmse: 0.3708 - val_loss: 0.8127 - val_rmse: 0.9015\n",
            "Epoch 84/100\n",
            "420/420 [==============================] - 62s 146ms/step - loss: 0.1288 - rmse: 0.3589 - val_loss: 0.8227 - val_rmse: 0.9070\n",
            "Epoch 85/100\n",
            "420/420 [==============================] - 62s 147ms/step - loss: 0.1302 - rmse: 0.3609 - val_loss: 0.9652 - val_rmse: 0.9825\n",
            "Epoch 86/100\n",
            "420/420 [==============================] - 62s 148ms/step - loss: 0.1393 - rmse: 0.3732 - val_loss: 1.5904 - val_rmse: 1.2611\n",
            "Epoch 87/100\n",
            "420/420 [==============================] - 62s 148ms/step - loss: 0.1591 - rmse: 0.3988 - val_loss: 1.0673 - val_rmse: 1.0331\n",
            "Epoch 88/100\n",
            "420/420 [==============================] - 63s 149ms/step - loss: 0.1434 - rmse: 0.3787 - val_loss: 1.0408 - val_rmse: 1.0202\n",
            "Epoch 89/100\n",
            "420/420 [==============================] - 62s 148ms/step - loss: 0.1287 - rmse: 0.3587 - val_loss: 0.9771 - val_rmse: 0.9885\n",
            "Epoch 90/100\n",
            "420/420 [==============================] - 62s 149ms/step - loss: 0.1299 - rmse: 0.3604 - val_loss: 0.9473 - val_rmse: 0.9733\n",
            "Epoch 91/100\n",
            "420/420 [==============================] - 63s 149ms/step - loss: 0.1331 - rmse: 0.3648 - val_loss: 0.9982 - val_rmse: 0.9991\n",
            "Epoch 92/100\n",
            "420/420 [==============================] - 62s 148ms/step - loss: 0.1474 - rmse: 0.3840 - val_loss: 1.1592 - val_rmse: 1.0767\n",
            "Epoch 93/100\n",
            "420/420 [==============================] - 62s 148ms/step - loss: 0.1439 - rmse: 0.3793 - val_loss: 1.3397 - val_rmse: 1.1575\n",
            "Epoch 94/100\n",
            "420/420 [==============================] - 62s 148ms/step - loss: 0.1489 - rmse: 0.3859 - val_loss: 0.9299 - val_rmse: 0.9643\n",
            "Epoch 95/100\n",
            "420/420 [==============================] - 63s 151ms/step - loss: 0.1419 - rmse: 0.3767 - val_loss: 0.8983 - val_rmse: 0.9478\n",
            "Epoch 96/100\n",
            "420/420 [==============================] - 62s 147ms/step - loss: 0.1374 - rmse: 0.3706 - val_loss: 1.0456 - val_rmse: 1.0225\n",
            "Epoch 97/100\n",
            "420/420 [==============================] - 62s 147ms/step - loss: 0.1451 - rmse: 0.3809 - val_loss: 1.1374 - val_rmse: 1.0665\n",
            "Epoch 98/100\n",
            "420/420 [==============================] - 62s 147ms/step - loss: 0.1368 - rmse: 0.3699 - val_loss: 1.0199 - val_rmse: 1.0099\n",
            "Epoch 99/100\n",
            "420/420 [==============================] - 62s 148ms/step - loss: 0.1335 - rmse: 0.3653 - val_loss: 0.9076 - val_rmse: 0.9527\n",
            "Epoch 100/100\n",
            "420/420 [==============================] - 62s 148ms/step - loss: 0.1464 - rmse: 0.3826 - val_loss: 0.9540 - val_rmse: 0.9767\n"
          ]
        }
      ],
      "source": [
        "# Trains the model for a fixed number of epochs (iterations on the used dataset)\n",
        "# val doit etre entre 0 et 1\n",
        "training_history = model.fit(x=train_images, y=train_mos,  batch_size=32, epochs=100, validation_split=.2, shuffle=True)"
      ]
    },
    {
      "cell_type": "code",
      "execution_count": null,
      "metadata": {
        "id": "suxQlLrNlS6I",
        "colab": {
          "base_uri": "https://localhost:8080/",
          "height": 267
        },
        "outputId": "eac446a2-aa61-484a-d434-24a99b41384c"
      },
      "outputs": [
        {
          "output_type": "display_data",
          "data": {
            "text/plain": [
              "<Figure size 432x288 with 1 Axes>"
            ],
            "image/png": "[encoded data removed]"
          },
          "metadata": {
            "needs_background": "light"
          }
        }
      ],
      "source": [
        "import matplotlib.pyplot as plt\n",
        "\n",
        "# plot training history\n",
        "plt.plot(training_history.history['loss'], label='train')\n",
        "plt.plot(training_history.history['val_loss'], label='test')\n",
        "plt.legend()\n",
        "plt.savefig('/content/Results/results_trainingLRN_TID2013.png')\n",
        "plt.show()"
      ]
    },
    {
      "cell_type": "markdown",
      "metadata": {
        "id": "efM5QPHNjwY9"
      },
      "source": [
        "# Testing step\n",
        "\n",
        "---"
      ]
    },
    {
      "cell_type": "markdown",
      "metadata": {
        "id": "VlLAIxaxJ7OH"
      },
      "source": [
        "PLCC  = Pearson between -1 and 1 : 0 imply no correlation at all, -1 or 1 imply  exact linear relationship\n",
        "\n",
        "SROCC = spearmanr, same as pearson but it assume that the datasets ar normally distributed\n"
      ]
    },
    {
      "cell_type": "code",
      "execution_count": null,
      "metadata": {
        "id": "iUbKQMTJj6_y",
        "colab": {
          "base_uri": "https://localhost:8080/"
        },
        "outputId": "7fb67fda-0294-4cd3-ee0b-e00a4afa4079"
      },
      "outputs": [
        {
          "output_type": "stream",
          "name": "stdout",
          "text": [
            "[INFO] Evaluating/Predicting...\n",
            "175/175 [==============================] - 12s 47ms/step - loss: 0.9816 - rmse: 0.9908\n",
            "loss = 0.9816012382507324,  accuracy = 0.9907580018043518\n",
            "PLCC = 0.602622745135038, SROCC = 0.5135771599382222\n"
          ]
        }
      ],
      "source": [
        "from scipy.stats import pearsonr, spearmanr\n",
        "\n",
        "print('[INFO] Evaluating/Predicting...')\n",
        "\n",
        "evaluation_score = model.evaluate(test_images, test_mos, batch_size=32)\n",
        "\n",
        "predictions = model.predict(test_images, batch_size=32)\n",
        "\n",
        "print(f'loss = {evaluation_score[0]},  accuracy = {evaluation_score[1]}')\n",
        "\n",
        "predictions = np.squeeze(np.asarray(predictions))\n",
        "test_mos = np.squeeze(np.asarray(test_mos))\n",
        "\n",
        "plcc = pearsonr(predictions, test_mos)\n",
        "srocc = spearmanr(predictions, test_mos)\n",
        "print(f'PLCC = {plcc[0]}, SROCC = {srocc[0]}')"
      ]
    },
    {
      "cell_type": "code",
      "execution_count": null,
      "metadata": {
        "id": "zwQ4jPDLlyJO",
        "colab": {
          "base_uri": "https://localhost:8080/",
          "height": 283
        },
        "outputId": "8255a487-c137-427f-e61e-0f4908dcaee8"
      },
      "outputs": [
        {
          "output_type": "display_data",
          "data": {
            "text/plain": [
              "<Figure size 432x288 with 1 Axes>"
            ],
            "image/png": "[encoded data removed]"
          },
          "metadata": {
            "needs_background": "light"
          }
        }
      ],
      "source": [
        "# Scatter plot to vosualize the relation between the actual MOS and the \n",
        "# predicted one\n",
        "test_mosMean = np.zeros((int)((len(test_mos))/64))\n",
        "predictionsMean = np.zeros((int)(len(predictions)/64))\n",
        "for i in range(len(test_mos)):\n",
        "  if (i+1) % 64 == 0:\n",
        "      test_mosMean[(int)((i+1) / 64)-1] = np.mean(test_mos[i:i+64])\n",
        "for i in range(len(predictions)):\n",
        "  if (i+1) % 64 == 0:\n",
        "      predictionsMean[(int)((i+1) / 64)-1] = np.mean(predictions[i:i+64])\n",
        "plt.scatter(test_mosMean, predictionsMean)\n",
        "plt.xlabel(\"MOS\")\n",
        "plt.ylabel(\"Predicted MOS\")\n",
        "plt.savefig('/content/Results/results_testLRN_TID2013')\n",
        "plt.show()"
      ]
    }
  ],
  "metadata": {
    "accelerator": "GPU",
    "colab": {
      "collapsed_sections": [],
      "name": "ResearchLabFinal.ipynb",
      "provenance": []
    },
    "kernelspec": {
      "display_name": "Python 3",
      "name": "python3"
    },
    "language_info": {
      "name": "python"
    }
  },
  "nbformat": 4,
  "nbformat_minor": 0
}